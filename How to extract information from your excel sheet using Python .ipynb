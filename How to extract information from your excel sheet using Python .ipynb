{
 "cells": [
  {
   "cell_type": "code",
   "execution_count": 1,
   "metadata": {},
   "outputs": [],
   "source": [
    "import openpyxl\n",
    "import pprint"
   ]
  },
  {
   "cell_type": "code",
   "execution_count": 2,
   "metadata": {},
   "outputs": [
    {
     "name": "stdout",
     "output_type": "stream",
     "text": [
      "['Sheet1']\n"
     ]
    }
   ],
   "source": [
    "import pandas as pd \n",
    "file = 'produceSales.xlsx'\n",
    "data = pd.ExcelFile(file)\n",
    "print(data.sheet_names)"
   ]
  },
  {
   "cell_type": "code",
   "execution_count": 3,
   "metadata": {},
   "outputs": [
    {
     "name": "stdout",
     "output_type": "stream",
     "text": [
      "                PRODUCE  COST PER POUND  POUNDS SOLD   TOTAL\n",
      "0              Potatoes            0.86         21.6   18.58\n",
      "1                  Okra            2.26         38.6   87.24\n",
      "2            Fava beans            2.69         32.8   88.23\n",
      "3            Watermelon            0.66         27.3   18.02\n",
      "4                Garlic            1.19          4.9    5.83\n",
      "5              Parsnips            2.27          1.1    2.50\n",
      "6             Asparagus            2.49         37.9   94.37\n",
      "7              Avocados            3.23          9.2   29.72\n",
      "8                Celery            3.07         28.9   88.72\n",
      "9                  Okra            2.26         40.0   90.40\n",
      "10              Spinach            4.12         30.0  123.60\n",
      "11             Cucumber            1.07         36.0   38.52\n",
      "12             Apricots            3.71         29.4  109.07\n",
      "13                 Okra            2.26          9.5   21.47\n",
      "14           Fava beans            2.69          5.3   14.26\n",
      "15           Watermelon            0.66         35.4   23.36\n",
      "16               Ginger            5.13         14.4   73.87\n",
      "17                 Corn            1.07         12.2   13.05\n",
      "18           Grapefruit            0.76         35.7   27.13\n",
      "19               Ginger            5.13         15.2   77.98\n",
      "20             Eggplant            2.32          5.0   11.60\n",
      "21             Cucumber            1.07         31.8   34.03\n",
      "22        Green cabbage            0.80          2.8    2.24\n",
      "23             Eggplant            2.32         32.8   76.10\n",
      "24       Yellow peppers            2.87         26.5   76.06\n",
      "25               Garlic            1.19         38.2   45.46\n",
      "26               Grapes            2.63         17.4   45.76\n",
      "27           Watermelon            0.66          7.3    4.82\n",
      "28             Cherries            9.50         25.6  243.20\n",
      "29               Apples            1.88          6.1   11.47\n",
      "...                 ...             ...          ...     ...\n",
      "23727        Grapefruit            0.76         13.5   10.26\n",
      "23728       Green beans            2.52         34.0   85.68\n",
      "23729          Parsnips            2.27         28.1   63.79\n",
      "23730  Butternut squash            1.28          8.9   11.39\n",
      "23731      Strawberries            4.40          1.1    4.84\n",
      "23732            Celery            3.07         18.5   56.80\n",
      "23733            Daikon            1.40          1.8    2.52\n",
      "23734    Yellow peppers            2.87         14.2   40.75\n",
      "23735              Corn            1.07         38.1   40.77\n",
      "23736         Red onion            0.78         19.7   15.37\n",
      "23737        Fava beans            2.69          5.8   15.60\n",
      "23738            Ginger            5.13         20.2  103.63\n",
      "23739  Butternut squash            1.28         16.1   20.61\n",
      "23740              Lime            1.06          5.2    5.51\n",
      "23741          Apricots            3.71         17.6   65.30\n",
      "23742          Eggplant            2.32         28.5   66.12\n",
      "23743            Apples            1.88          1.2    2.26\n",
      "23744        Fava beans            2.69          5.2   13.99\n",
      "23745             Lemon            1.29          5.5    7.10\n",
      "23746             Beets            1.51          5.7    8.61\n",
      "23747  Butternut squash            1.28         36.6   46.85\n",
      "23748              Kale            5.02         16.8   84.34\n",
      "23749           Bananas            0.86         26.1   22.45\n",
      "23750          Potatoes            0.86         11.5    9.89\n",
      "23751    Yellow peppers            2.87         26.9   77.20\n",
      "23752          Tomatoes            3.16          9.7   30.65\n",
      "23753          Eggplant            2.32         15.0   34.80\n",
      "23754          Coconuts            1.18          4.2    4.96\n",
      "23755          Potatoes            0.86         39.8   34.23\n",
      "23756         Red onion            0.78         39.3   30.65\n",
      "\n",
      "[23757 rows x 4 columns]\n"
     ]
    }
   ],
   "source": [
    "df = data.parse('Sheet1')\n",
    "print(df)"
   ]
  },
  {
   "cell_type": "code",
   "execution_count": 4,
   "metadata": {},
   "outputs": [
    {
     "name": "stdout",
     "output_type": "stream",
     "text": [
      "<class 'pandas.core.frame.DataFrame'>\n",
      "Int64Index: 23757 entries, 0 to 23756\n",
      "Data columns (total 4 columns):\n",
      "PRODUCE           23757 non-null object\n",
      "COST PER POUND    23757 non-null float64\n",
      "POUNDS SOLD       23757 non-null float64\n",
      "TOTAL             23757 non-null float64\n",
      "dtypes: float64(3), object(1)\n",
      "memory usage: 928.0+ KB\n"
     ]
    }
   ],
   "source": [
    "df.info()"
   ]
  },
  {
   "cell_type": "code",
   "execution_count": 6,
   "metadata": {},
   "outputs": [
    {
     "data": {
      "text/html": [
       "<div>\n",
       "<style scoped>\n",
       "    .dataframe tbody tr th:only-of-type {\n",
       "        vertical-align: middle;\n",
       "    }\n",
       "\n",
       "    .dataframe tbody tr th {\n",
       "        vertical-align: top;\n",
       "    }\n",
       "\n",
       "    .dataframe thead th {\n",
       "        text-align: right;\n",
       "    }\n",
       "</style>\n",
       "<table border=\"1\" class=\"dataframe\">\n",
       "  <thead>\n",
       "    <tr style=\"text-align: right;\">\n",
       "      <th></th>\n",
       "      <th>PRODUCE</th>\n",
       "      <th>COST PER POUND</th>\n",
       "      <th>POUNDS SOLD</th>\n",
       "      <th>TOTAL</th>\n",
       "    </tr>\n",
       "  </thead>\n",
       "  <tbody>\n",
       "    <tr>\n",
       "      <th>0</th>\n",
       "      <td>Potatoes</td>\n",
       "      <td>0.86</td>\n",
       "      <td>21.6</td>\n",
       "      <td>18.58</td>\n",
       "    </tr>\n",
       "    <tr>\n",
       "      <th>1</th>\n",
       "      <td>Okra</td>\n",
       "      <td>2.26</td>\n",
       "      <td>38.6</td>\n",
       "      <td>87.24</td>\n",
       "    </tr>\n",
       "    <tr>\n",
       "      <th>2</th>\n",
       "      <td>Fava beans</td>\n",
       "      <td>2.69</td>\n",
       "      <td>32.8</td>\n",
       "      <td>88.23</td>\n",
       "    </tr>\n",
       "    <tr>\n",
       "      <th>3</th>\n",
       "      <td>Watermelon</td>\n",
       "      <td>0.66</td>\n",
       "      <td>27.3</td>\n",
       "      <td>18.02</td>\n",
       "    </tr>\n",
       "    <tr>\n",
       "      <th>4</th>\n",
       "      <td>Garlic</td>\n",
       "      <td>1.19</td>\n",
       "      <td>4.9</td>\n",
       "      <td>5.83</td>\n",
       "    </tr>\n",
       "    <tr>\n",
       "      <th>5</th>\n",
       "      <td>Parsnips</td>\n",
       "      <td>2.27</td>\n",
       "      <td>1.1</td>\n",
       "      <td>2.50</td>\n",
       "    </tr>\n",
       "    <tr>\n",
       "      <th>6</th>\n",
       "      <td>Asparagus</td>\n",
       "      <td>2.49</td>\n",
       "      <td>37.9</td>\n",
       "      <td>94.37</td>\n",
       "    </tr>\n",
       "    <tr>\n",
       "      <th>7</th>\n",
       "      <td>Avocados</td>\n",
       "      <td>3.23</td>\n",
       "      <td>9.2</td>\n",
       "      <td>29.72</td>\n",
       "    </tr>\n",
       "    <tr>\n",
       "      <th>8</th>\n",
       "      <td>Celery</td>\n",
       "      <td>3.07</td>\n",
       "      <td>28.9</td>\n",
       "      <td>88.72</td>\n",
       "    </tr>\n",
       "    <tr>\n",
       "      <th>9</th>\n",
       "      <td>Okra</td>\n",
       "      <td>2.26</td>\n",
       "      <td>40.0</td>\n",
       "      <td>90.40</td>\n",
       "    </tr>\n",
       "  </tbody>\n",
       "</table>\n",
       "</div>"
      ],
      "text/plain": [
       "      PRODUCE  COST PER POUND  POUNDS SOLD  TOTAL\n",
       "0    Potatoes            0.86         21.6  18.58\n",
       "1        Okra            2.26         38.6  87.24\n",
       "2  Fava beans            2.69         32.8  88.23\n",
       "3  Watermelon            0.66         27.3  18.02\n",
       "4      Garlic            1.19          4.9   5.83\n",
       "5    Parsnips            2.27          1.1   2.50\n",
       "6   Asparagus            2.49         37.9  94.37\n",
       "7    Avocados            3.23          9.2  29.72\n",
       "8      Celery            3.07         28.9  88.72\n",
       "9        Okra            2.26         40.0  90.40"
      ]
     },
     "execution_count": 6,
     "metadata": {},
     "output_type": "execute_result"
    }
   ],
   "source": [
    "df.head(10)"
   ]
  },
  {
   "cell_type": "code",
   "execution_count": 7,
   "metadata": {},
   "outputs": [
    {
     "data": {
      "text/plain": [
       "openpyxl.workbook.workbook.Workbook"
      ]
     },
     "execution_count": 7,
     "metadata": {},
     "output_type": "execute_result"
    }
   ],
   "source": [
    "ps = openpyxl.load_workbook('produceSales.xlsx')\n",
    "\n",
    "type(ps)"
   ]
  },
  {
   "cell_type": "code",
   "execution_count": 8,
   "metadata": {},
   "outputs": [],
   "source": [
    "sheet = ps['Sheet1']\n",
    "\n",
    "TotalInfo = {}"
   ]
  },
  {
   "cell_type": "code",
   "execution_count": 9,
   "metadata": {},
   "outputs": [
    {
     "data": {
      "text/plain": [
       "23758"
      ]
     },
     "execution_count": 9,
     "metadata": {},
     "output_type": "execute_result"
    }
   ],
   "source": [
    "sheet.max_row\n",
    "#returns the total number of rows in the sheet\n"
   ]
  },
  {
   "cell_type": "code",
   "execution_count": 10,
   "metadata": {},
   "outputs": [
    {
     "data": {
      "text/plain": [
       "5"
      ]
     },
     "execution_count": 10,
     "metadata": {},
     "output_type": "execute_result"
    }
   ],
   "source": [
    "sheet.max_column\n",
    "\n",
    "#returns the total number of column in the sheet\n"
   ]
  },
  {
   "cell_type": "code",
   "execution_count": 11,
   "metadata": {},
   "outputs": [],
   "source": [
    "for row in range(2, sheet.max_row + 1):\n",
    "    \n",
    "    # each row in the spreadsheet represents information for a particular purchase of a fruit.\n",
    "\n",
    "    produce = sheet['B' + str(row)].value\n",
    "    \n",
    "    cost_per_pound = sheet['C' + str(row)].value\n",
    "    \n",
    "    pounds_sold = sheet['D' + str(row)].value\n",
    "    \n",
    "    total_sales = sheet['E' + str(row)].value\n",
    "# the first column is B followed by C and so on.\n",
    "# Each value in a cell is represented by a column letter and a row number.\n",
    "# so the first element in the sheet is B1, next column C1 and so on. \n",
    "# This enables us to iterate over the entire cells.\n",
    "\n",
    "    \n",
    "    TotalInfo.setdefault(produce,{'Total_cost_per_pound': 0,\n",
    "                                  'Total_pounds_sold': 0, \n",
    "                                  'Total_sales': 0,\n",
    "                                 'Total_Purchase_Instances': 0})\n",
    "    \n",
    "# Each row represents a fruit, so increment by the new corresponding values.   \n",
    " \n",
    "\n",
    "    TotalInfo[produce]['Total_cost_per_pound'] += float(cost_per_pound)\n",
    "    \n",
    "    TotalInfo[produce]['Total_pounds_sold'] += int(pounds_sold)\n",
    "    \n",
    "    TotalInfo[produce]['Total_sales'] += int(total_sales)\n",
    "    \n",
    "    \n",
    "    TotalInfo[produce]['Total_Purchase_Instances'] += 1\n",
    "    \n",
    "    \n",
    "\n",
    "\n",
    "\n",
    "    \n"
   ]
  },
  {
   "cell_type": "code",
   "execution_count": 12,
   "metadata": {},
   "outputs": [
    {
     "data": {
      "text/plain": [
       "{'Apples': {'Total_Purchase_Instances': 627,\n",
       "  'Total_cost_per_pound': 1178.7600000000068,\n",
       "  'Total_pounds_sold': 12119,\n",
       "  'Total_sales': 22999},\n",
       " 'Apricots': {'Total_Purchase_Instances': 601,\n",
       "  'Total_cost_per_pound': 2229.7100000000155,\n",
       "  'Total_pounds_sold': 11491,\n",
       "  'Total_sales': 43332},\n",
       " 'Asparagus': {'Total_Purchase_Instances': 608,\n",
       "  'Total_cost_per_pound': 1513.9200000000048,\n",
       "  'Total_pounds_sold': 12566,\n",
       "  'Total_sales': 31680},\n",
       " 'Avocados': {'Total_Purchase_Instances': 604,\n",
       "  'Total_cost_per_pound': 1950.9200000000092,\n",
       "  'Total_pounds_sold': 12098,\n",
       "  'Total_sales': 39649},\n",
       " 'Bananas': {'Total_Purchase_Instances': 621,\n",
       "  'Total_cost_per_pound': 534.0600000000063,\n",
       "  'Total_pounds_sold': 12357,\n",
       "  'Total_sales': 10546},\n",
       " 'Beets': {'Total_Purchase_Instances': 612,\n",
       "  'Total_cost_per_pound': 924.1199999999955,\n",
       "  'Total_pounds_sold': 11981,\n",
       "  'Total_sales': 18212},\n",
       " 'Bok choy': {'Total_Purchase_Instances': 583,\n",
       "  'Total_cost_per_pound': 827.8599999999927,\n",
       "  'Total_pounds_sold': 11298,\n",
       "  'Total_sales': 16118},\n",
       " 'Brussels sprouts': {'Total_Purchase_Instances': 580,\n",
       "  'Total_cost_per_pound': 956.999999999991,\n",
       "  'Total_pounds_sold': 11680,\n",
       "  'Total_sales': 19425},\n",
       " 'Butternut squash': {'Total_Purchase_Instances': 589,\n",
       "  'Total_cost_per_pound': 753.9199999999896,\n",
       "  'Total_pounds_sold': 11237,\n",
       "  'Total_sales': 14419},\n",
       " 'Carrots': {'Total_Purchase_Instances': 589,\n",
       "  'Total_cost_per_pound': 742.1399999999959,\n",
       "  'Total_pounds_sold': 11931,\n",
       "  'Total_sales': 15089},\n",
       " 'Celery': {'Total_Purchase_Instances': 586,\n",
       "  'Total_cost_per_pound': 1799.0199999999913,\n",
       "  'Total_pounds_sold': 12064,\n",
       "  'Total_sales': 37577},\n",
       " 'Cherries': {'Total_Purchase_Instances': 619,\n",
       "  'Total_cost_per_pound': 5880.5,\n",
       "  'Total_pounds_sold': 12102,\n",
       "  'Total_sales': 117361},\n",
       " 'Coconuts': {'Total_Purchase_Instances': 573,\n",
       "  'Total_cost_per_pound': 676.1399999999956,\n",
       "  'Total_pounds_sold': 11592,\n",
       "  'Total_sales': 13700},\n",
       " 'Corn': {'Total_Purchase_Instances': 578,\n",
       "  'Total_cost_per_pound': 618.4600000000022,\n",
       "  'Total_pounds_sold': 11436,\n",
       "  'Total_sales': 12234},\n",
       " 'Cucumber': {'Total_Purchase_Instances': 593,\n",
       "  'Total_cost_per_pound': 634.510000000003,\n",
       "  'Total_pounds_sold': 11743,\n",
       "  'Total_sales': 12534},\n",
       " 'Daikon': {'Total_Purchase_Instances': 588,\n",
       "  'Total_cost_per_pound': 823.1999999999915,\n",
       "  'Total_pounds_sold': 11868,\n",
       "  'Total_sales': 16716},\n",
       " 'Eggplant': {'Total_Purchase_Instances': 600,\n",
       "  'Total_cost_per_pound': 1391.9999999999998,\n",
       "  'Total_pounds_sold': 11587,\n",
       "  'Total_sales': 27174},\n",
       " 'Fava beans': {'Total_Purchase_Instances': 586,\n",
       "  'Total_cost_per_pound': 1576.340000000021,\n",
       "  'Total_pounds_sold': 11431,\n",
       "  'Total_sales': 31184},\n",
       " 'Garlic': {'Total_Purchase_Instances': 630,\n",
       "  'Total_cost_per_pound': 749.70000000001,\n",
       "  'Total_pounds_sold': 12221,\n",
       "  'Total_sales': 14569},\n",
       " 'Ginger': {'Total_Purchase_Instances': 587,\n",
       "  'Total_cost_per_pound': 3011.3100000000413,\n",
       "  'Total_pounds_sold': 11648,\n",
       "  'Total_sales': 60825},\n",
       " 'Grapefruit': {'Total_Purchase_Instances': 595,\n",
       "  'Total_cost_per_pound': 452.1999999999965,\n",
       "  'Total_pounds_sold': 11437,\n",
       "  'Total_sales': 8617},\n",
       " 'Grapes': {'Total_Purchase_Instances': 617,\n",
       "  'Total_cost_per_pound': 1622.7100000000232,\n",
       "  'Total_pounds_sold': 12013,\n",
       "  'Total_sales': 32023},\n",
       " 'Green beans': {'Total_Purchase_Instances': 579,\n",
       "  'Total_cost_per_pound': 1459.079999999992,\n",
       "  'Total_pounds_sold': 11219,\n",
       "  'Total_sales': 28640},\n",
       " 'Green cabbage': {'Total_Purchase_Instances': 580,\n",
       "  'Total_cost_per_pound': 464.00000000000443,\n",
       "  'Total_pounds_sold': 11357,\n",
       "  'Total_sales': 9010},\n",
       " 'Green peppers': {'Total_Purchase_Instances': 571,\n",
       "  'Total_cost_per_pound': 1079.1899999999966,\n",
       "  'Total_pounds_sold': 11717,\n",
       "  'Total_sales': 22359},\n",
       " 'Kale': {'Total_Purchase_Instances': 596,\n",
       "  'Total_cost_per_pound': 2991.9199999999905,\n",
       "  'Total_pounds_sold': 12016,\n",
       "  'Total_sales': 61431},\n",
       " 'Lemon': {'Total_Purchase_Instances': 607,\n",
       "  'Total_cost_per_pound': 783.0299999999959,\n",
       "  'Total_pounds_sold': 12110,\n",
       "  'Total_sales': 15690},\n",
       " 'Lettuce': {'Total_Purchase_Instances': 623,\n",
       "  'Total_cost_per_pound': 1171.2400000000064,\n",
       "  'Total_pounds_sold': 11608,\n",
       "  'Total_sales': 22047},\n",
       " 'Lime': {'Total_Purchase_Instances': 592,\n",
       "  'Total_cost_per_pound': 627.5199999999951,\n",
       "  'Total_pounds_sold': 11658,\n",
       "  'Total_sales': 12359},\n",
       " 'Okra': {'Total_Purchase_Instances': 638,\n",
       "  'Total_cost_per_pound': 1441.8799999999949,\n",
       "  'Total_pounds_sold': 12674,\n",
       "  'Total_sales': 28985},\n",
       " 'Orange': {'Total_Purchase_Instances': 562,\n",
       "  'Total_cost_per_pound': 612.5799999999978,\n",
       "  'Total_pounds_sold': 10930,\n",
       "  'Total_sales': 11922},\n",
       " 'Papaya': {'Total_Purchase_Instances': 582,\n",
       "  'Total_cost_per_pound': 779.8800000000022,\n",
       "  'Total_pounds_sold': 11512,\n",
       "  'Total_sales': 15504},\n",
       " 'Parsnips': {'Total_Purchase_Instances': 575,\n",
       "  'Total_cost_per_pound': 1305.2499999999923,\n",
       "  'Total_pounds_sold': 11006,\n",
       "  'Total_sales': 25298},\n",
       " 'Potatoes': {'Total_Purchase_Instances': 581,\n",
       "  'Total_cost_per_pound': 499.6600000000058,\n",
       "  'Total_pounds_sold': 11966,\n",
       "  'Total_sales': 10212},\n",
       " 'Red onion': {'Total_Purchase_Instances': 619,\n",
       "  'Total_cost_per_pound': 482.81999999999243,\n",
       "  'Total_pounds_sold': 12263,\n",
       "  'Total_sales': 9476},\n",
       " 'Spinach': {'Total_Purchase_Instances': 555,\n",
       "  'Total_cost_per_pound': 2286.5999999999676,\n",
       "  'Total_pounds_sold': 11487,\n",
       "  'Total_sales': 48091},\n",
       " 'Strawberries': {'Total_Purchase_Instances': 597,\n",
       "  'Total_cost_per_pound': 2626.8000000000293,\n",
       "  'Total_pounds_sold': 11423,\n",
       "  'Total_sales': 51145},\n",
       " 'Tomatoes': {'Total_Purchase_Instances': 596,\n",
       "  'Total_cost_per_pound': 1883.3600000000188,\n",
       "  'Total_pounds_sold': 11751,\n",
       "  'Total_sales': 37679},\n",
       " 'Watermelon': {'Total_Purchase_Instances': 561,\n",
       "  'Total_cost_per_pound': 370.2600000000032,\n",
       "  'Total_pounds_sold': 11235,\n",
       "  'Total_sales': 7307},\n",
       " 'Yellow peppers': {'Total_Purchase_Instances': 577,\n",
       "  'Total_cost_per_pound': 1655.9899999999773,\n",
       "  'Total_pounds_sold': 11890,\n",
       "  'Total_sales': 34615}}"
      ]
     },
     "execution_count": 12,
     "metadata": {},
     "output_type": "execute_result"
    }
   ],
   "source": [
    "TotalInfo"
   ]
  },
  {
   "cell_type": "code",
   "execution_count": 13,
   "metadata": {},
   "outputs": [
    {
     "name": "stdout",
     "output_type": "stream",
     "text": [
      "Done.\n"
     ]
    }
   ],
   "source": [
    "resultFile = open('Total_info.txt', 'w')\n",
    "resultFile.write(pprint.pformat(TotalInfo))\n",
    "resultFile.close()\n",
    "print('Done.')"
   ]
  },
  {
   "cell_type": "code",
   "execution_count": null,
   "metadata": {},
   "outputs": [],
   "source": []
  }
 ],
 "metadata": {
  "kernelspec": {
   "display_name": "Python 3",
   "language": "python",
   "name": "python3"
  },
  "language_info": {
   "codemirror_mode": {
    "name": "ipython",
    "version": 3
   },
   "file_extension": ".py",
   "mimetype": "text/x-python",
   "name": "python",
   "nbconvert_exporter": "python",
   "pygments_lexer": "ipython3",
   "version": "3.6.8"
  }
 },
 "nbformat": 4,
 "nbformat_minor": 2
}
