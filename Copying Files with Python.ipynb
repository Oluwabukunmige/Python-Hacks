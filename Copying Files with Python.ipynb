{
 "cells": [
  {
   "cell_type": "code",
   "execution_count": 1,
   "metadata": {},
   "outputs": [
    {
     "data": {
      "text/plain": [
       "'/home/oluwabukunmi/Python Book/Python Files'"
      ]
     },
     "execution_count": 1,
     "metadata": {},
     "output_type": "execute_result"
    }
   ],
   "source": [
    "import os\n",
    "\n",
    "os.getcwd()\n",
    "\n"
   ]
  },
  {
   "cell_type": "code",
   "execution_count": 4,
   "metadata": {},
   "outputs": [
    {
     "name": "stdout",
     "output_type": "stream",
     "text": [
      "Enter the absolute filepath of the directory you wish to copy from: /home/oluwabukunmi/Python Book/Python Files\n",
      "Enter the extension you'd like to copy: .csv\n",
      "Enter destination folder's absolute filepath: /home/oluwabukunmi/Python Book/CSV Files\n",
      "Selective copying has finished - all files of .csv type have been copied from Python Files to CSV Files\n"
     ]
    }
   ],
   "source": [
    "import os\n",
    "import shutil\n",
    "\n",
    "\n",
    "folder = input('Enter the absolute filepath of'\n",
    "               ' the directory you wish to copy from: ')\n",
    "\n",
    "extension = input(\"Enter the extension you'd like to copy: \")\n",
    "\n",
    "destination = input(\"Enter destination folder's absolute filepath: \")\n",
    "\n",
    "for folders, subfolders, filenames in os.walk(folder):\n",
    "\n",
    "        for filename in filenames:\n",
    "\n",
    "            if filename.endswith('{}'.format(extension)):\n",
    "                shutil.copy(os.path.join(folders, filename), destination)\n",
    "\n",
    "print('Selective copying has finished - all files of', extension,\n",
    "      'type have been copied from', os.path.basename(folder), 'to',\n",
    "      os.path.basename(destination))\n"
   ]
  },
  {
   "cell_type": "code",
   "execution_count": null,
   "metadata": {},
   "outputs": [],
   "source": []
  },
  {
   "cell_type": "code",
   "execution_count": null,
   "metadata": {},
   "outputs": [],
   "source": []
  }
 ],
 "metadata": {
  "kernelspec": {
   "display_name": "Python 3",
   "language": "python",
   "name": "python3"
  },
  "language_info": {
   "codemirror_mode": {
    "name": "ipython",
    "version": 3
   },
   "file_extension": ".py",
   "mimetype": "text/x-python",
   "name": "python",
   "nbconvert_exporter": "python",
   "pygments_lexer": "ipython3",
   "version": "3.6.8"
  }
 },
 "nbformat": 4,
 "nbformat_minor": 2
}
